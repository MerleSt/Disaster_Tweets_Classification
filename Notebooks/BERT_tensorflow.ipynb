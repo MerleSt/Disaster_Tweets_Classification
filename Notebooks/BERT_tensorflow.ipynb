{
 "cells": [
  {
   "cell_type": "markdown",
   "source": [
    "# Imports"
   ],
   "metadata": {
    "collapsed": false
   },
   "id": "e2f2f11a1328d1fa"
  },
  {
   "cell_type": "code",
   "execution_count": 2,
   "id": "initial_id",
   "metadata": {
    "collapsed": true,
    "ExecuteTime": {
     "end_time": "2023-11-17T17:12:41.960602Z",
     "start_time": "2023-11-17T17:12:38.336195Z"
    }
   },
   "outputs": [],
   "source": [
    "import pandas as pd\n",
    "import numpy as np\n",
    "import tensorflow as tf\n",
    "import keras\n",
    "from keras import layers\n",
    "import tensorflow_text as text\n",
    "import tensorflow_hub as hub"
   ]
  },
  {
   "cell_type": "code",
   "execution_count": 3,
   "outputs": [],
   "source": [
    "train_df = pd.read_csv('/Users/merlesteffen/Documents/GitHub/Disaster_Tweets_Classification/Data/train.csv')\n",
    "test_df = pd.read_csv('/Users/merlesteffen/Documents/GitHub/Disaster_Tweets_Classification/Data/test.csv')"
   ],
   "metadata": {
    "collapsed": false,
    "ExecuteTime": {
     "end_time": "2023-11-17T17:12:41.977326Z",
     "start_time": "2023-11-17T17:12:41.961490Z"
    }
   },
   "id": "29ebc5f9a8c919e2"
  },
  {
   "cell_type": "markdown",
   "source": [
    "# Encoder"
   ],
   "metadata": {
    "collapsed": false,
    "ExecuteTime": {
     "end_time": "2023-11-17T13:27:06.609295Z",
     "start_time": "2023-11-17T13:27:06.606668Z"
    }
   },
   "id": "62b4052abf107ac0"
  },
  {
   "cell_type": "markdown",
   "source": [
    "## Download"
   ],
   "metadata": {
    "collapsed": false,
    "ExecuteTime": {
     "end_time": "2023-11-17T13:03:29.169740Z",
     "start_time": "2023-11-17T13:03:29.165994Z"
    }
   },
   "id": "dd532ded2def3db0"
  },
  {
   "cell_type": "code",
   "execution_count": 4,
   "outputs": [],
   "source": [
    "encoder_url = \"https://www.kaggle.com/models/tensorflow/bert/frameworks/TensorFlow2/variations/en-uncased-l-24-h-1024-a-16/versions/4\""
   ],
   "metadata": {
    "collapsed": false,
    "ExecuteTime": {
     "end_time": "2023-11-17T17:12:41.979889Z",
     "start_time": "2023-11-17T17:12:41.977447Z"
    }
   },
   "id": "3879e88ccd7d1cf8"
  },
  {
   "cell_type": "code",
   "execution_count": 5,
   "outputs": [],
   "source": [
    "preprocess_url = \"https://kaggle.com/models/tensorflow/bert/frameworks/TensorFlow2/variations/en-uncased-preprocess/versions/3\""
   ],
   "metadata": {
    "collapsed": false,
    "ExecuteTime": {
     "end_time": "2023-11-17T17:12:41.984818Z",
     "start_time": "2023-11-17T17:12:41.980512Z"
    }
   },
   "id": "60b15a5ed5c71ba8"
  },
  {
   "cell_type": "markdown",
   "source": [
    "# Get started"
   ],
   "metadata": {
    "collapsed": false,
    "ExecuteTime": {
     "end_time": "2023-11-17T13:27:19.524173Z",
     "start_time": "2023-11-17T13:27:12.497554Z"
    }
   },
   "id": "eb48feda6f9c019b"
  },
  {
   "cell_type": "code",
   "execution_count": 6,
   "outputs": [
    {
     "name": "stderr",
     "output_type": "stream",
     "text": [
      "2023-11-17 18:12:42.041761: I metal_plugin/src/device/metal_device.cc:1154] Metal device set to: Apple M2 Pro\n",
      "2023-11-17 18:12:42.041783: I metal_plugin/src/device/metal_device.cc:296] systemMemory: 32.00 GB\n",
      "2023-11-17 18:12:42.041791: I metal_plugin/src/device/metal_device.cc:313] maxCacheSize: 10.67 GB\n",
      "2023-11-17 18:12:42.041837: I tensorflow/core/common_runtime/pluggable_device/pluggable_device_factory.cc:306] Could not identify NUMA node of platform GPU ID 0, defaulting to 0. Your kernel may not have been built with NUMA support.\n",
      "2023-11-17 18:12:42.041867: I tensorflow/core/common_runtime/pluggable_device/pluggable_device_factory.cc:272] Created TensorFlow device (/job:localhost/replica:0/task:0/device:GPU:0 with 0 MB memory) -> physical PluggableDevice (device: 0, name: METAL, pci bus id: <undefined>)\n",
      "2023-11-17 18:12:42.632713: I tensorflow/core/grappler/optimizers/custom_graph_optimizer_registry.cc:117] Plugin optimizer for device_type GPU is enabled.\n"
     ]
    }
   ],
   "source": [
    "bert_preprocess_model = hub.KerasLayer(preprocess_url)"
   ],
   "metadata": {
    "collapsed": false,
    "ExecuteTime": {
     "end_time": "2023-11-17T17:12:42.649371Z",
     "start_time": "2023-11-17T17:12:41.982482Z"
    }
   },
   "id": "15989541cdb061fd"
  },
  {
   "cell_type": "code",
   "execution_count": 7,
   "outputs": [],
   "source": [
    "test_text = ['This is so super nice', 'Whatever it is it is good']\n",
    "preprocessed_text = bert_preprocess_model(test_text)"
   ],
   "metadata": {
    "collapsed": false,
    "ExecuteTime": {
     "end_time": "2023-11-17T17:12:42.798496Z",
     "start_time": "2023-11-17T17:12:42.650042Z"
    }
   },
   "id": "b0f8e6b38b9d0929"
  },
  {
   "cell_type": "code",
   "execution_count": 8,
   "outputs": [
    {
     "ename": "KeyboardInterrupt",
     "evalue": "",
     "output_type": "error",
     "traceback": [
      "\u001B[0;31m---------------------------------------------------------------------------\u001B[0m",
      "\u001B[0;31mKeyboardInterrupt\u001B[0m                         Traceback (most recent call last)",
      "Cell \u001B[0;32mIn[8], line 1\u001B[0m\n\u001B[0;32m----> 1\u001B[0m bert_model \u001B[38;5;241m=\u001B[39m hub\u001B[38;5;241m.\u001B[39mKerasLayer(encoder_url)\n\u001B[1;32m      2\u001B[0m bert_results \u001B[38;5;241m=\u001B[39m bert_model\u001B[38;5;241m.\u001B[39mpredict(preprocessed_text)\n",
      "File \u001B[0;32m~/anaconda3/lib/python3.11/site-packages/tensorflow_hub/keras_layer.py:157\u001B[0m, in \u001B[0;36mKerasLayer.__init__\u001B[0;34m(self, handle, trainable, arguments, _sentinel, tags, signature, signature_outputs_as_dict, output_key, output_shape, load_options, **kwargs)\u001B[0m\n\u001B[1;32m    153\u001B[0m   \u001B[38;5;28mself\u001B[39m\u001B[38;5;241m.\u001B[39m_output_shape \u001B[38;5;241m=\u001B[39m data_structures\u001B[38;5;241m.\u001B[39mNoDependency(\n\u001B[1;32m    154\u001B[0m       _convert_nest_to_shapes(output_shape))\n\u001B[1;32m    156\u001B[0m \u001B[38;5;28mself\u001B[39m\u001B[38;5;241m.\u001B[39m_load_options \u001B[38;5;241m=\u001B[39m load_options\n\u001B[0;32m--> 157\u001B[0m \u001B[38;5;28mself\u001B[39m\u001B[38;5;241m.\u001B[39m_func \u001B[38;5;241m=\u001B[39m load_module(handle, tags, \u001B[38;5;28mself\u001B[39m\u001B[38;5;241m.\u001B[39m_load_options)\n\u001B[1;32m    158\u001B[0m \u001B[38;5;28mself\u001B[39m\u001B[38;5;241m.\u001B[39m_is_hub_module_v1 \u001B[38;5;241m=\u001B[39m \u001B[38;5;28mgetattr\u001B[39m(\u001B[38;5;28mself\u001B[39m\u001B[38;5;241m.\u001B[39m_func, \u001B[38;5;124m\"\u001B[39m\u001B[38;5;124m_is_hub_module_v1\u001B[39m\u001B[38;5;124m\"\u001B[39m, \u001B[38;5;28;01mFalse\u001B[39;00m)\n\u001B[1;32m    160\u001B[0m \u001B[38;5;66;03m# Update with the defaults when using legacy TF1 Hub format.\u001B[39;00m\n",
      "File \u001B[0;32m~/anaconda3/lib/python3.11/site-packages/tensorflow_hub/keras_layer.py:459\u001B[0m, in \u001B[0;36mload_module\u001B[0;34m(handle, tags, load_options)\u001B[0m\n\u001B[1;32m    457\u001B[0m     \u001B[38;5;28;01mexcept\u001B[39;00m \u001B[38;5;167;01mImportError\u001B[39;00m:  \u001B[38;5;66;03m# Expected before TF2.4.\u001B[39;00m\n\u001B[1;32m    458\u001B[0m       set_load_options \u001B[38;5;241m=\u001B[39m load_options\n\u001B[0;32m--> 459\u001B[0m \u001B[38;5;28;01mreturn\u001B[39;00m module_v2\u001B[38;5;241m.\u001B[39mload(handle, tags\u001B[38;5;241m=\u001B[39mtags, options\u001B[38;5;241m=\u001B[39mset_load_options)\n",
      "File \u001B[0;32m~/anaconda3/lib/python3.11/site-packages/tensorflow_hub/module_v2.py:120\u001B[0m, in \u001B[0;36mload\u001B[0;34m(handle, tags, options)\u001B[0m\n\u001B[1;32m    117\u001B[0m   obj \u001B[38;5;241m=\u001B[39m tf\u001B[38;5;241m.\u001B[39mcompat\u001B[38;5;241m.\u001B[39mv1\u001B[38;5;241m.\u001B[39msaved_model\u001B[38;5;241m.\u001B[39mload_v2(\n\u001B[1;32m    118\u001B[0m       module_path, tags\u001B[38;5;241m=\u001B[39mtags, options\u001B[38;5;241m=\u001B[39moptions)\n\u001B[1;32m    119\u001B[0m \u001B[38;5;28;01melse\u001B[39;00m:\n\u001B[0;32m--> 120\u001B[0m   obj \u001B[38;5;241m=\u001B[39m tf\u001B[38;5;241m.\u001B[39mcompat\u001B[38;5;241m.\u001B[39mv1\u001B[38;5;241m.\u001B[39msaved_model\u001B[38;5;241m.\u001B[39mload_v2(module_path, tags\u001B[38;5;241m=\u001B[39mtags)\n\u001B[1;32m    121\u001B[0m obj\u001B[38;5;241m.\u001B[39m_is_hub_module_v1 \u001B[38;5;241m=\u001B[39m is_hub_module_v1  \u001B[38;5;66;03m# pylint: disable=protected-access\u001B[39;00m\n\u001B[1;32m    122\u001B[0m \u001B[38;5;28;01mreturn\u001B[39;00m obj\n",
      "File \u001B[0;32m~/anaconda3/lib/python3.11/site-packages/tensorflow/python/saved_model/load.py:900\u001B[0m, in \u001B[0;36mload\u001B[0;34m(export_dir, tags, options)\u001B[0m\n\u001B[1;32m    898\u001B[0m \u001B[38;5;28;01mif\u001B[39;00m \u001B[38;5;28misinstance\u001B[39m(export_dir, os\u001B[38;5;241m.\u001B[39mPathLike):\n\u001B[1;32m    899\u001B[0m   export_dir \u001B[38;5;241m=\u001B[39m os\u001B[38;5;241m.\u001B[39mfspath(export_dir)\n\u001B[0;32m--> 900\u001B[0m result \u001B[38;5;241m=\u001B[39m load_partial(export_dir, \u001B[38;5;28;01mNone\u001B[39;00m, tags, options)[\u001B[38;5;124m\"\u001B[39m\u001B[38;5;124mroot\u001B[39m\u001B[38;5;124m\"\u001B[39m]\n\u001B[1;32m    901\u001B[0m \u001B[38;5;28;01mreturn\u001B[39;00m result\n",
      "File \u001B[0;32m~/anaconda3/lib/python3.11/site-packages/tensorflow/python/saved_model/load.py:1031\u001B[0m, in \u001B[0;36mload_partial\u001B[0;34m(export_dir, filters, tags, options)\u001B[0m\n\u001B[1;32m   1029\u001B[0m \u001B[38;5;28;01mwith\u001B[39;00m ops\u001B[38;5;241m.\u001B[39minit_scope():\n\u001B[1;32m   1030\u001B[0m   \u001B[38;5;28;01mtry\u001B[39;00m:\n\u001B[0;32m-> 1031\u001B[0m     loader \u001B[38;5;241m=\u001B[39m Loader(object_graph_proto, saved_model_proto, export_dir,\n\u001B[1;32m   1032\u001B[0m                     ckpt_options, options, filters)\n\u001B[1;32m   1033\u001B[0m   \u001B[38;5;28;01mexcept\u001B[39;00m errors\u001B[38;5;241m.\u001B[39mNotFoundError \u001B[38;5;28;01mas\u001B[39;00m err:\n\u001B[1;32m   1034\u001B[0m     \u001B[38;5;28;01mraise\u001B[39;00m \u001B[38;5;167;01mFileNotFoundError\u001B[39;00m(\n\u001B[1;32m   1035\u001B[0m         \u001B[38;5;28mstr\u001B[39m(err) \u001B[38;5;241m+\u001B[39m \u001B[38;5;124m\"\u001B[39m\u001B[38;5;130;01m\\n\u001B[39;00m\u001B[38;5;124m You may be trying to load on a different device \u001B[39m\u001B[38;5;124m\"\u001B[39m\n\u001B[1;32m   1036\u001B[0m         \u001B[38;5;124m\"\u001B[39m\u001B[38;5;124mfrom the computational device. Consider setting the \u001B[39m\u001B[38;5;124m\"\u001B[39m\n\u001B[1;32m   1037\u001B[0m         \u001B[38;5;124m\"\u001B[39m\u001B[38;5;124m`experimental_io_device` option in `tf.saved_model.LoadOptions` \u001B[39m\u001B[38;5;124m\"\u001B[39m\n\u001B[1;32m   1038\u001B[0m         \u001B[38;5;124m\"\u001B[39m\u001B[38;5;124mto the io_device such as \u001B[39m\u001B[38;5;124m'\u001B[39m\u001B[38;5;124m/job:localhost\u001B[39m\u001B[38;5;124m'\u001B[39m\u001B[38;5;124m.\u001B[39m\u001B[38;5;124m\"\u001B[39m)\n",
      "File \u001B[0;32m~/anaconda3/lib/python3.11/site-packages/tensorflow/python/saved_model/load.py:226\u001B[0m, in \u001B[0;36mLoader.__init__\u001B[0;34m(self, object_graph_proto, saved_model_proto, export_dir, ckpt_options, save_options, filters)\u001B[0m\n\u001B[1;32m    223\u001B[0m \u001B[38;5;28mself\u001B[39m\u001B[38;5;241m.\u001B[39m_load_all()\n\u001B[1;32m    225\u001B[0m \u001B[38;5;28;01mif\u001B[39;00m \u001B[38;5;129;01mnot\u001B[39;00m save_options\u001B[38;5;241m.\u001B[39mexperimental_skip_checkpoint:\n\u001B[0;32m--> 226\u001B[0m   \u001B[38;5;28mself\u001B[39m\u001B[38;5;241m.\u001B[39m_restore_checkpoint()\n\u001B[1;32m    227\u001B[0m \u001B[38;5;28;01mfor\u001B[39;00m node \u001B[38;5;129;01min\u001B[39;00m \u001B[38;5;28mself\u001B[39m\u001B[38;5;241m.\u001B[39m_nodes:\n\u001B[1;32m    228\u001B[0m   \u001B[38;5;28;01mif\u001B[39;00m \u001B[38;5;28misinstance\u001B[39m(node, resource\u001B[38;5;241m.\u001B[39mCapturableResource):\n",
      "File \u001B[0;32m~/anaconda3/lib/python3.11/site-packages/tensorflow/python/saved_model/load.py:561\u001B[0m, in \u001B[0;36mLoader._restore_checkpoint\u001B[0;34m(self)\u001B[0m\n\u001B[1;32m    559\u001B[0m   load_status\u001B[38;5;241m.\u001B[39massert_nontrivial_match()\n\u001B[1;32m    560\u001B[0m \u001B[38;5;28;01melse\u001B[39;00m:\n\u001B[0;32m--> 561\u001B[0m   load_status \u001B[38;5;241m=\u001B[39m saver\u001B[38;5;241m.\u001B[39mrestore(variables_path, \u001B[38;5;28mself\u001B[39m\u001B[38;5;241m.\u001B[39m_checkpoint_options)\n\u001B[1;32m    562\u001B[0m   load_status\u001B[38;5;241m.\u001B[39massert_existing_objects_matched()\n\u001B[1;32m    563\u001B[0m ckpt \u001B[38;5;241m=\u001B[39m load_status\u001B[38;5;241m.\u001B[39m_checkpoint\n",
      "File \u001B[0;32m~/anaconda3/lib/python3.11/site-packages/tensorflow/python/checkpoint/checkpoint.py:1462\u001B[0m, in \u001B[0;36mTrackableSaver.restore\u001B[0;34m(self, save_path, options)\u001B[0m\n\u001B[1;32m   1451\u001B[0m object_graph_proto\u001B[38;5;241m.\u001B[39mParseFromString(object_graph_string)\n\u001B[1;32m   1452\u001B[0m checkpoint \u001B[38;5;241m=\u001B[39m _CheckpointRestoreCoordinator(\n\u001B[1;32m   1453\u001B[0m     object_graph_proto\u001B[38;5;241m=\u001B[39mobject_graph_proto,\n\u001B[1;32m   1454\u001B[0m     save_path\u001B[38;5;241m=\u001B[39msave_path,\n\u001B[0;32m   (...)\u001B[0m\n\u001B[1;32m   1459\u001B[0m     options\u001B[38;5;241m=\u001B[39moptions,\n\u001B[1;32m   1460\u001B[0m     saveables_cache\u001B[38;5;241m=\u001B[39m\u001B[38;5;28mself\u001B[39m\u001B[38;5;241m.\u001B[39m_saveables_cache)\n\u001B[1;32m   1461\u001B[0m restore_lib\u001B[38;5;241m.\u001B[39mCheckpointPosition(\n\u001B[0;32m-> 1462\u001B[0m     checkpoint\u001B[38;5;241m=\u001B[39mcheckpoint, proto_id\u001B[38;5;241m=\u001B[39m\u001B[38;5;241m0\u001B[39m)\u001B[38;5;241m.\u001B[39mrestore(\u001B[38;5;28mself\u001B[39m\u001B[38;5;241m.\u001B[39m_graph_view\u001B[38;5;241m.\u001B[39mroot,\n\u001B[1;32m   1463\u001B[0m                                                reader)\n\u001B[1;32m   1465\u001B[0m \u001B[38;5;66;03m# Attached dependencies are not attached to the root, so should be restored\u001B[39;00m\n\u001B[1;32m   1466\u001B[0m \u001B[38;5;66;03m# separately.\u001B[39;00m\n\u001B[1;32m   1467\u001B[0m \u001B[38;5;28;01mif\u001B[39;00m \u001B[38;5;28mself\u001B[39m\u001B[38;5;241m.\u001B[39m_graph_view\u001B[38;5;241m.\u001B[39mattached_dependencies:\n",
      "File \u001B[0;32m~/anaconda3/lib/python3.11/site-packages/tensorflow/python/checkpoint/restore.py:62\u001B[0m, in \u001B[0;36mCheckpointPosition.restore\u001B[0;34m(self, trackable, reader)\u001B[0m\n\u001B[1;32m     58\u001B[0m \u001B[38;5;28;01mwith\u001B[39;00m ops\u001B[38;5;241m.\u001B[39minit_scope():\n\u001B[1;32m     59\u001B[0m   \u001B[38;5;28;01mif\u001B[39;00m \u001B[38;5;28mself\u001B[39m\u001B[38;5;241m.\u001B[39mbind_object(trackable):\n\u001B[1;32m     60\u001B[0m     \u001B[38;5;66;03m# This object's correspondence with a checkpointed object is new, so\u001B[39;00m\n\u001B[1;32m     61\u001B[0m     \u001B[38;5;66;03m# process deferred restorations for it and its dependencies.\u001B[39;00m\n\u001B[0;32m---> 62\u001B[0m     restore_ops \u001B[38;5;241m=\u001B[39m \u001B[38;5;28mself\u001B[39m\u001B[38;5;241m.\u001B[39m_restore_descendants(reader)\n\u001B[1;32m     63\u001B[0m     \u001B[38;5;28;01mif\u001B[39;00m restore_ops:\n\u001B[1;32m     64\u001B[0m       \u001B[38;5;28mself\u001B[39m\u001B[38;5;241m.\u001B[39m_checkpoint\u001B[38;5;241m.\u001B[39mnew_restore_ops(restore_ops)\n",
      "File \u001B[0;32m~/anaconda3/lib/python3.11/site-packages/tensorflow/python/checkpoint/restore.py:463\u001B[0m, in \u001B[0;36mCheckpointPosition._restore_descendants\u001B[0;34m(self, reader)\u001B[0m\n\u001B[1;32m    459\u001B[0m   _queue_children_for_restoration(current_position, visit_queue)\n\u001B[1;32m    460\u001B[0m   _queue_slot_variables(current_position, visit_queue)\n\u001B[1;32m    462\u001B[0m restore_ops\u001B[38;5;241m.\u001B[39mextend(\n\u001B[0;32m--> 463\u001B[0m     current_position\u001B[38;5;241m.\u001B[39mcheckpoint\u001B[38;5;241m.\u001B[39mrestore_saveables(\n\u001B[1;32m    464\u001B[0m         tensor_saveables,\n\u001B[1;32m    465\u001B[0m         python_positions,\n\u001B[1;32m    466\u001B[0m         registered_savers,\n\u001B[1;32m    467\u001B[0m         reader\u001B[38;5;241m=\u001B[39mreader))\n\u001B[1;32m    468\u001B[0m \u001B[38;5;28;01mreturn\u001B[39;00m restore_ops\n",
      "File \u001B[0;32m~/anaconda3/lib/python3.11/site-packages/tensorflow/python/checkpoint/checkpoint.py:362\u001B[0m, in \u001B[0;36m_CheckpointRestoreCoordinator.restore_saveables\u001B[0;34m(self, tensor_saveables, python_positions, registered_savers, reader)\u001B[0m\n\u001B[1;32m    357\u001B[0m \u001B[38;5;28;01mif\u001B[39;00m tensor_saveables \u001B[38;5;129;01mor\u001B[39;00m registered_savers:\n\u001B[1;32m    358\u001B[0m   flat_saveables \u001B[38;5;241m=\u001B[39m saveable_object_util\u001B[38;5;241m.\u001B[39mvalidate_and_slice_inputs(\n\u001B[1;32m    359\u001B[0m       tensor_saveables)\n\u001B[1;32m    360\u001B[0m   new_restore_ops \u001B[38;5;241m=\u001B[39m functional_saver\u001B[38;5;241m.\u001B[39mMultiDeviceSaver\u001B[38;5;241m.\u001B[39mfrom_saveables(\n\u001B[1;32m    361\u001B[0m       flat_saveables,\n\u001B[0;32m--> 362\u001B[0m       registered_savers)\u001B[38;5;241m.\u001B[39mrestore(\u001B[38;5;28mself\u001B[39m\u001B[38;5;241m.\u001B[39msave_path_tensor, \u001B[38;5;28mself\u001B[39m\u001B[38;5;241m.\u001B[39moptions)\n\u001B[1;32m    363\u001B[0m   \u001B[38;5;28;01mif\u001B[39;00m \u001B[38;5;129;01mnot\u001B[39;00m context\u001B[38;5;241m.\u001B[39mexecuting_eagerly():\n\u001B[1;32m    364\u001B[0m     \u001B[38;5;28;01mfor\u001B[39;00m name, restore_op \u001B[38;5;129;01min\u001B[39;00m \u001B[38;5;28msorted\u001B[39m(new_restore_ops\u001B[38;5;241m.\u001B[39mitems()):\n",
      "File \u001B[0;32m~/anaconda3/lib/python3.11/site-packages/tensorflow/python/checkpoint/functional_saver.py:499\u001B[0m, in \u001B[0;36mMultiDeviceSaver.restore\u001B[0;34m(self, file_prefix, options)\u001B[0m\n\u001B[1;32m    497\u001B[0m   restore_ops \u001B[38;5;241m=\u001B[39m tf_function_restore()\n\u001B[1;32m    498\u001B[0m \u001B[38;5;28;01melse\u001B[39;00m:\n\u001B[0;32m--> 499\u001B[0m   restore_ops \u001B[38;5;241m=\u001B[39m restore_fn()\n\u001B[1;32m    501\u001B[0m \u001B[38;5;28;01mreturn\u001B[39;00m restore_ops\n",
      "File \u001B[0;32m~/anaconda3/lib/python3.11/site-packages/tensorflow/python/checkpoint/functional_saver.py:435\u001B[0m, in \u001B[0;36mMultiDeviceSaver.restore.<locals>.restore_fn\u001B[0;34m()\u001B[0m\n\u001B[1;32m    432\u001B[0m \u001B[38;5;28;01mfor\u001B[39;00m device, saver \u001B[38;5;129;01min\u001B[39;00m \u001B[38;5;28msorted\u001B[39m(\u001B[38;5;28mself\u001B[39m\u001B[38;5;241m.\u001B[39m_single_device_savers\u001B[38;5;241m.\u001B[39mitems()):\n\u001B[1;32m    433\u001B[0m   \u001B[38;5;28;01mwith\u001B[39;00m ops\u001B[38;5;241m.\u001B[39mdevice(device):\n\u001B[1;32m    434\u001B[0m     \u001B[38;5;66;03m# Load values from checkpoint\u001B[39;00m\n\u001B[0;32m--> 435\u001B[0m     restored_tensor_dict \u001B[38;5;241m=\u001B[39m saver\u001B[38;5;241m.\u001B[39mrestore(file_prefix, options)\n\u001B[1;32m    437\u001B[0m     \u001B[38;5;66;03m# Map restored tensors to the corresponding restore_fn, and see if all\u001B[39;00m\n\u001B[1;32m    438\u001B[0m     \u001B[38;5;66;03m# inputs have all been loaded. Call `restore_fn` if that is the case.\u001B[39;00m\n\u001B[1;32m    439\u001B[0m     \u001B[38;5;28;01mfor\u001B[39;00m checkpoint_key, slice_and_tensor \u001B[38;5;129;01min\u001B[39;00m restored_tensor_dict\u001B[38;5;241m.\u001B[39mitems():\n",
      "File \u001B[0;32m~/anaconda3/lib/python3.11/site-packages/tensorflow/python/checkpoint/functional_saver.py:114\u001B[0m, in \u001B[0;36m_SingleDeviceSaver.restore\u001B[0;34m(self, file_prefix, options)\u001B[0m\n\u001B[1;32m    112\u001B[0m restore_device \u001B[38;5;241m=\u001B[39m options\u001B[38;5;241m.\u001B[39mexperimental_io_device \u001B[38;5;129;01mor\u001B[39;00m \u001B[38;5;124m\"\u001B[39m\u001B[38;5;124mcpu:0\u001B[39m\u001B[38;5;124m\"\u001B[39m\n\u001B[1;32m    113\u001B[0m \u001B[38;5;28;01mwith\u001B[39;00m ops\u001B[38;5;241m.\u001B[39mdevice(restore_device):\n\u001B[0;32m--> 114\u001B[0m   restored_tensors \u001B[38;5;241m=\u001B[39m io_ops\u001B[38;5;241m.\u001B[39mrestore_v2(\n\u001B[1;32m    115\u001B[0m       file_prefix, tensor_names, slice_specs, tensor_dtypes)\n\u001B[1;32m    117\u001B[0m restored_tensor_dict \u001B[38;5;241m=\u001B[39m {}\n\u001B[1;32m    118\u001B[0m \u001B[38;5;28;01mfor\u001B[39;00m checkpoint_key, tensor_slices \u001B[38;5;129;01min\u001B[39;00m \u001B[38;5;28mself\u001B[39m\u001B[38;5;241m.\u001B[39m_tensor_slice_dict\u001B[38;5;241m.\u001B[39mitems():\n",
      "File \u001B[0;32m~/anaconda3/lib/python3.11/site-packages/tensorflow/python/ops/gen_io_ops.py:1510\u001B[0m, in \u001B[0;36mrestore_v2\u001B[0;34m(prefix, tensor_names, shape_and_slices, dtypes, name)\u001B[0m\n\u001B[1;32m   1508\u001B[0m   \u001B[38;5;28;01mpass\u001B[39;00m\n\u001B[1;32m   1509\u001B[0m \u001B[38;5;28;01mtry\u001B[39;00m:\n\u001B[0;32m-> 1510\u001B[0m   \u001B[38;5;28;01mreturn\u001B[39;00m restore_v2_eager_fallback(\n\u001B[1;32m   1511\u001B[0m       prefix, tensor_names, shape_and_slices, dtypes\u001B[38;5;241m=\u001B[39mdtypes, name\u001B[38;5;241m=\u001B[39mname,\n\u001B[1;32m   1512\u001B[0m       ctx\u001B[38;5;241m=\u001B[39m_ctx)\n\u001B[1;32m   1513\u001B[0m \u001B[38;5;28;01mexcept\u001B[39;00m _core\u001B[38;5;241m.\u001B[39m_SymbolicException:\n\u001B[1;32m   1514\u001B[0m   \u001B[38;5;28;01mpass\u001B[39;00m  \u001B[38;5;66;03m# Add nodes to the TensorFlow graph.\u001B[39;00m\n",
      "File \u001B[0;32m~/anaconda3/lib/python3.11/site-packages/tensorflow/python/ops/gen_io_ops.py:1549\u001B[0m, in \u001B[0;36mrestore_v2_eager_fallback\u001B[0;34m(prefix, tensor_names, shape_and_slices, dtypes, name, ctx)\u001B[0m\n\u001B[1;32m   1547\u001B[0m _inputs_flat \u001B[38;5;241m=\u001B[39m [prefix, tensor_names, shape_and_slices]\n\u001B[1;32m   1548\u001B[0m _attrs \u001B[38;5;241m=\u001B[39m (\u001B[38;5;124m\"\u001B[39m\u001B[38;5;124mdtypes\u001B[39m\u001B[38;5;124m\"\u001B[39m, dtypes)\n\u001B[0;32m-> 1549\u001B[0m _result \u001B[38;5;241m=\u001B[39m _execute\u001B[38;5;241m.\u001B[39mexecute(\u001B[38;5;124mb\u001B[39m\u001B[38;5;124m\"\u001B[39m\u001B[38;5;124mRestoreV2\u001B[39m\u001B[38;5;124m\"\u001B[39m, \u001B[38;5;28mlen\u001B[39m(dtypes), inputs\u001B[38;5;241m=\u001B[39m_inputs_flat,\n\u001B[1;32m   1550\u001B[0m                            attrs\u001B[38;5;241m=\u001B[39m_attrs, ctx\u001B[38;5;241m=\u001B[39mctx, name\u001B[38;5;241m=\u001B[39mname)\n\u001B[1;32m   1551\u001B[0m \u001B[38;5;28;01mif\u001B[39;00m _execute\u001B[38;5;241m.\u001B[39mmust_record_gradient():\n\u001B[1;32m   1552\u001B[0m   _execute\u001B[38;5;241m.\u001B[39mrecord_gradient(\n\u001B[1;32m   1553\u001B[0m       \u001B[38;5;124m\"\u001B[39m\u001B[38;5;124mRestoreV2\u001B[39m\u001B[38;5;124m\"\u001B[39m, _inputs_flat, _attrs, _result)\n",
      "File \u001B[0;32m~/anaconda3/lib/python3.11/site-packages/tensorflow/python/eager/execute.py:60\u001B[0m, in \u001B[0;36mquick_execute\u001B[0;34m(op_name, num_outputs, inputs, attrs, ctx, name)\u001B[0m\n\u001B[1;32m     53\u001B[0m   \u001B[38;5;66;03m# Convert any objects of type core_types.Tensor to Tensor.\u001B[39;00m\n\u001B[1;32m     54\u001B[0m   inputs \u001B[38;5;241m=\u001B[39m [\n\u001B[1;32m     55\u001B[0m       tensor_conversion_registry\u001B[38;5;241m.\u001B[39mconvert(t)\n\u001B[1;32m     56\u001B[0m       \u001B[38;5;28;01mif\u001B[39;00m \u001B[38;5;28misinstance\u001B[39m(t, core_types\u001B[38;5;241m.\u001B[39mTensor)\n\u001B[1;32m     57\u001B[0m       \u001B[38;5;28;01melse\u001B[39;00m t\n\u001B[1;32m     58\u001B[0m       \u001B[38;5;28;01mfor\u001B[39;00m t \u001B[38;5;129;01min\u001B[39;00m inputs\n\u001B[1;32m     59\u001B[0m   ]\n\u001B[0;32m---> 60\u001B[0m   tensors \u001B[38;5;241m=\u001B[39m pywrap_tfe\u001B[38;5;241m.\u001B[39mTFE_Py_Execute(ctx\u001B[38;5;241m.\u001B[39m_handle, device_name, op_name,\n\u001B[1;32m     61\u001B[0m                                       inputs, attrs, num_outputs)\n\u001B[1;32m     62\u001B[0m \u001B[38;5;28;01mexcept\u001B[39;00m core\u001B[38;5;241m.\u001B[39m_NotOkStatusException \u001B[38;5;28;01mas\u001B[39;00m e:\n\u001B[1;32m     63\u001B[0m   \u001B[38;5;28;01mif\u001B[39;00m name \u001B[38;5;129;01mis\u001B[39;00m \u001B[38;5;129;01mnot\u001B[39;00m \u001B[38;5;28;01mNone\u001B[39;00m:\n",
      "\u001B[0;31mKeyboardInterrupt\u001B[0m: "
     ]
    }
   ],
   "source": [
    "bert_model = hub.KerasLayer(encoder_url)\n",
    "bert_results = bert_model.predict(preprocessed_text)"
   ],
   "metadata": {
    "collapsed": false,
    "ExecuteTime": {
     "end_time": "2023-11-17T17:12:50.125082Z",
     "start_time": "2023-11-17T17:12:42.996236Z"
    }
   },
   "id": "eb7bf6c23757eced"
  }
 ],
 "metadata": {
  "kernelspec": {
   "display_name": "Python 3",
   "language": "python",
   "name": "python3"
  },
  "language_info": {
   "codemirror_mode": {
    "name": "ipython",
    "version": 2
   },
   "file_extension": ".py",
   "mimetype": "text/x-python",
   "name": "python",
   "nbconvert_exporter": "python",
   "pygments_lexer": "ipython2",
   "version": "2.7.6"
  }
 },
 "nbformat": 4,
 "nbformat_minor": 5
}
